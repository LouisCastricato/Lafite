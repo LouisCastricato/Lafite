{
 "cells": [
  {
   "cell_type": "code",
   "execution_count": 1,
   "id": "1a44f769-7008-46b6-aba5-8a5244218356",
   "metadata": {},
   "outputs": [
    {
     "name": "stderr",
     "output_type": "stream",
     "text": [
      "3it [00:00, 29.23it/s]"
     ]
    },
    {
     "name": "stdout",
     "output_type": "stream",
     "text": [
      "['CID', 'Category', 'SubCategory', 'HeelHeight', 'Insole', 'Closure', 'Gender', 'Material', 'ToeStyle']\n",
      "./zap50k128/100627.255.txt ['a Men Shoes which is a Oxfords with Lace up closure, Capped Toe, Round Toe  style.', 'a Shoes which is a Men Oxfords , it has Lace up closure and Capped Toe, Round Toe  style.', 'a Lace up Shoes that is a Oxfords for Men , it is in Capped Toe, Round Toe style.', 'this is a Oxfords , a Men Shoes that has Lace up closure and Capped Toe, Round Toe style.', 'this is a Men Oxfords , a Lace up Shoes that is in Capped Toe, Round Toe style.', '']\n"
     ]
    },
    {
     "name": "stderr",
     "output_type": "stream",
     "text": [
      "1005it [00:35, 26.94it/s]"
     ]
    },
    {
     "name": "stdout",
     "output_type": "stream",
     "text": [
      "./zap50k128/7161124.352727.txt ['a Women Shoes which is a Boat Shoes with Lace up closure, Moc Toe  style.', 'a Shoes which is a Women Boat Shoes , it has Lace up closure and Moc Toe  style.', 'a Lace up Shoes that is a Boat Shoes for Women , it is in Moc Toe style.', 'this is a Boat Shoes , a Women Shoes that has Lace up closure and Moc Toe style.', 'this is a Women Boat Shoes , a Lace up Shoes that is in Moc Toe style.', '']\n"
     ]
    },
    {
     "name": "stderr",
     "output_type": "stream",
     "text": [
      "2005it [01:11, 29.25it/s]"
     ]
    },
    {
     "name": "stdout",
     "output_type": "stream",
     "text": [
      "./zap50k128/7242292.9.txt ['a Boys, Girls Shoes which is a Sneakers and Athletic Shoes with Hook and Loop closure,  style.', 'a Shoes which is a Boys, Girls Sneakers and Athletic Shoes , it has Hook and Loop closure and  style.', 'a Hook and Loop Shoes that is a Sneakers and Athletic Shoes for Boys, Girls , it is in style.', 'this is a Sneakers and Athletic Shoes , a Boys, Girls Shoes that has Hook and Loop closure and style.', 'this is a Boys, Girls Sneakers and Athletic Shoes , a Hook and Loop Shoes that is in style.', '']\n"
     ]
    },
    {
     "name": "stderr",
     "output_type": "stream",
     "text": [
      "3007it [01:48, 28.67it/s]"
     ]
    },
    {
     "name": "stdout",
     "output_type": "stream",
     "text": [
      "./zap50k128/7322474.7.txt ['a Men Shoes which is a Loafers with Slip-On closure, Moc Toe  style.', 'a Shoes which is a Men Loafers , it has Slip-On closure and Moc Toe  style.', 'a Slip-On Shoes that is a Loafers for Men , it is in Moc Toe style.', 'this is a Loafers , a Men Shoes that has Slip-On closure and Moc Toe style.', 'this is a Men Loafers , a Slip-On Shoes that is in Moc Toe style.', '']\n"
     ]
    },
    {
     "name": "stderr",
     "output_type": "stream",
     "text": [
      "4005it [02:24, 27.27it/s]"
     ]
    },
    {
     "name": "stdout",
     "output_type": "stream",
     "text": [
      "./zap50k128/7400255.9.txt ['a Men Shoes which is a Sneakers and Athletic Shoes with Lace up closure,  style.', 'a Shoes which is a Men Sneakers and Athletic Shoes , it has Lace up closure and  style.', 'a Lace up Shoes that is a Sneakers and Athletic Shoes for Men , it is in style.', 'this is a Sneakers and Athletic Shoes , a Men Shoes that has Lace up closure and style.', 'this is a Men Sneakers and Athletic Shoes , a Lace up Shoes that is in style.', '']\n"
     ]
    },
    {
     "name": "stderr",
     "output_type": "stream",
     "text": [
      "5005it [03:03, 25.75it/s]"
     ]
    },
    {
     "name": "stdout",
     "output_type": "stream",
     "text": [
      "./zap50k128/7495020.79745.txt ['a Men Shoes which is a Loafers with Slip-On closure, Moc Toe  style.', 'a Shoes which is a Men Loafers , it has Slip-On closure and Moc Toe  style.', 'a Slip-On Shoes that is a Loafers for Men , it is in Moc Toe style.', 'this is a Loafers , a Men Shoes that has Slip-On closure and Moc Toe style.', 'this is a Men Loafers , a Slip-On Shoes that is in Moc Toe style.', '']\n"
     ]
    },
    {
     "name": "stderr",
     "output_type": "stream",
     "text": [
      "6007it [03:41, 27.60it/s]"
     ]
    },
    {
     "name": "stdout",
     "output_type": "stream",
     "text": [
      "./zap50k128/7552096.202666.txt ['a Girls Boots which is a Mid-Calf with Toggle closure,  style.', 'a Boots which is a Girls Mid-Calf , it has Toggle closure and  style.', 'a Toggle Boots that is a Mid-Calf for Girls , it is in style.', 'this is a Mid-Calf , a Girls Boots that has Toggle closure and style.', 'this is a Girls Mid-Calf , a Toggle Boots that is in style.', '']\n"
     ]
    },
    {
     "name": "stderr",
     "output_type": "stream",
     "text": [
      "7006it [04:21, 25.61it/s]"
     ]
    },
    {
     "name": "stdout",
     "output_type": "stream",
     "text": [
      "./zap50k128/7594565.248967.txt ['a Women Boots which is a Mid-Calf with Pull-on closure, Round Toe  style.', 'a Boots which is a Women Mid-Calf , it has Pull-on closure and Round Toe  style.', 'a Pull-on Boots that is a Mid-Calf for Women , it is in Round Toe style.', 'this is a Mid-Calf , a Women Boots that has Pull-on closure and Round Toe style.', 'this is a Women Mid-Calf , a Pull-on Boots that is in Round Toe style.', '']\n"
     ]
    },
    {
     "name": "stderr",
     "output_type": "stream",
     "text": [
      "8006it [05:00, 25.84it/s]"
     ]
    },
    {
     "name": "stdout",
     "output_type": "stream",
     "text": [
      "./zap50k128/7633182.18914.txt ['a Girls Boots which is a Mid-Calf with Pull-on closure,  style.', 'a Boots which is a Girls Mid-Calf , it has Pull-on closure and  style.', 'a Pull-on Boots that is a Mid-Calf for Girls , it is in style.', 'this is a Mid-Calf , a Girls Boots that has Pull-on closure and style.', 'this is a Girls Mid-Calf , a Pull-on Boots that is in style.', '']\n"
     ]
    },
    {
     "name": "stderr",
     "output_type": "stream",
     "text": [
      "9006it [05:39, 26.21it/s]"
     ]
    },
    {
     "name": "stdout",
     "output_type": "stream",
     "text": [
      "./zap50k128/7667036.397023.txt ['a Women Shoes which is a Flats with Slip-On closure, Round Toe, Closed Toe  style.', 'a Shoes which is a Women Flats , it has Slip-On closure and Round Toe, Closed Toe  style.', 'a Slip-On Shoes that is a Flats for Women , it is in Round Toe, Closed Toe style.', 'this is a Flats , a Women Shoes that has Slip-On closure and Round Toe, Closed Toe style.', 'this is a Women Flats , a Slip-On Shoes that is in Round Toe, Closed Toe style.', '']\n"
     ]
    },
    {
     "name": "stderr",
     "output_type": "stream",
     "text": [
      "10004it [06:17, 25.79it/s]"
     ]
    },
    {
     "name": "stdout",
     "output_type": "stream",
     "text": [
      "./zap50k128/7704053.2329.txt ['a Women Boots which is a Mid-Calf with Zipper closure,  style.', 'a Boots which is a Women Mid-Calf , it has Zipper closure and  style.', 'a Zipper Boots that is a Mid-Calf for Women , it is in style.', 'this is a Mid-Calf , a Women Boots that has Zipper closure and style.', 'this is a Women Mid-Calf , a Zipper Boots that is in style.', '']\n"
     ]
    },
    {
     "name": "stderr",
     "output_type": "stream",
     "text": [
      "11005it [06:56, 25.92it/s]"
     ]
    },
    {
     "name": "stdout",
     "output_type": "stream",
     "text": [
      "./zap50k128/7738831.1679.txt ['a Girls Boots which is a Ankle with Pull-on closure,  style.', 'a Boots which is a Girls Ankle , it has Pull-on closure and  style.', 'a Pull-on Boots that is a Ankle for Girls , it is in style.', 'this is a Ankle , a Girls Boots that has Pull-on closure and style.', 'this is a Girls Ankle , a Pull-on Boots that is in style.', '']\n"
     ]
    },
    {
     "name": "stderr",
     "output_type": "stream",
     "text": [
      "12006it [07:34, 25.90it/s]"
     ]
    },
    {
     "name": "stdout",
     "output_type": "stream",
     "text": [
      "./zap50k128/7765292.3.txt ['a Women Shoes which is a Sneakers and Athletic Shoes with Lace up closure,  style.', 'a Shoes which is a Women Sneakers and Athletic Shoes , it has Lace up closure and  style.', 'a Lace up Shoes that is a Sneakers and Athletic Shoes for Women , it is in style.', 'this is a Sneakers and Athletic Shoes , a Women Shoes that has Lace up closure and style.', 'this is a Women Sneakers and Athletic Shoes , a Lace up Shoes that is in style.', '']\n"
     ]
    },
    {
     "name": "stderr",
     "output_type": "stream",
     "text": [
      "13007it [08:13, 26.56it/s]"
     ]
    },
    {
     "name": "stdout",
     "output_type": "stream",
     "text": [
      "./zap50k128/7795512.55258.txt ['a Women Boots which is a Mid-Calf with Pull-on closure,  style.', 'a Boots which is a Women Mid-Calf , it has Pull-on closure and  style.', 'a Pull-on Boots that is a Mid-Calf for Women , it is in style.', 'this is a Mid-Calf , a Women Boots that has Pull-on closure and style.', 'this is a Women Mid-Calf , a Pull-on Boots that is in style.', '']\n"
     ]
    },
    {
     "name": "stderr",
     "output_type": "stream",
     "text": [
      "14005it [08:51, 25.29it/s]"
     ]
    },
    {
     "name": "stdout",
     "output_type": "stream",
     "text": [
      "./zap50k128/7814459.3.txt ['a Boys Shoes which is a Oxfords with Lace up closure, Round Toe, Closed Toe  style.', 'a Shoes which is a Boys Oxfords , it has Lace up closure and Round Toe, Closed Toe  style.', 'a Lace up Shoes that is a Oxfords for Boys , it is in Round Toe, Closed Toe style.', 'this is a Oxfords , a Boys Shoes that has Lace up closure and Round Toe, Closed Toe style.', 'this is a Boys Oxfords , a Lace up Shoes that is in Round Toe, Closed Toe style.', '']\n"
     ]
    },
    {
     "name": "stderr",
     "output_type": "stream",
     "text": [
      "15004it [09:30, 26.21it/s]"
     ]
    },
    {
     "name": "stdout",
     "output_type": "stream",
     "text": [
      "./zap50k128/7829938.303880.txt ['a Women Shoes which is a Flats with Hook and Loop closure,  style.', 'a Shoes which is a Women Flats , it has Hook and Loop closure and  style.', 'a Hook and Loop Shoes that is a Flats for Women , it is in style.', 'this is a Flats , a Women Shoes that has Hook and Loop closure and style.', 'this is a Women Flats , a Hook and Loop Shoes that is in style.', '']\n"
     ]
    },
    {
     "name": "stderr",
     "output_type": "stream",
     "text": [
      "16007it [10:09, 26.67it/s]"
     ]
    },
    {
     "name": "stdout",
     "output_type": "stream",
     "text": [
      "./zap50k128/7843787.632.txt ['a Girls Shoes which is a Flats with Buckle closure, Round Toe  style.', 'a Shoes which is a Girls Flats , it has Buckle closure and Round Toe  style.', 'a Buckle Shoes that is a Flats for Girls , it is in Round Toe style.', 'this is a Flats , a Girls Shoes that has Buckle closure and Round Toe style.', 'this is a Girls Flats , a Buckle Shoes that is in Round Toe style.', '']\n"
     ]
    },
    {
     "name": "stderr",
     "output_type": "stream",
     "text": [
      "17004it [10:47, 25.65it/s]"
     ]
    },
    {
     "name": "stdout",
     "output_type": "stream",
     "text": [
      "./zap50k128/7873462.372384.txt ['a Men Shoes which is a Sneakers and Athletic Shoes with Lace up closure,  style.', 'a Shoes which is a Men Sneakers and Athletic Shoes , it has Lace up closure and  style.', 'a Lace up Shoes that is a Sneakers and Athletic Shoes for Men , it is in style.', 'this is a Sneakers and Athletic Shoes , a Men Shoes that has Lace up closure and style.', 'this is a Men Sneakers and Athletic Shoes , a Lace up Shoes that is in style.', '']\n"
     ]
    },
    {
     "name": "stderr",
     "output_type": "stream",
     "text": [
      "18005it [11:25, 26.51it/s]"
     ]
    },
    {
     "name": "stdout",
     "output_type": "stream",
     "text": [
      "./zap50k128/7883815.183092.txt ['a Men Sandals which is a Flat with closure,  style.', 'a Sandals which is a Men Flat , it has closure and  style.', 'a Sandals that is a Flat for Men , it is in style.', 'this is a Flat , a Men Sandals that has closure and style.', 'this is a Men Flat , a Sandals that is in style.', '']\n"
     ]
    },
    {
     "name": "stderr",
     "output_type": "stream",
     "text": [
      "19004it [12:03, 26.50it/s]"
     ]
    },
    {
     "name": "stdout",
     "output_type": "stream",
     "text": [
      "./zap50k128/7894528.174742.txt ['a Women Sandals which is a Flat with Buckle closure, Open Toe  style.', 'a Sandals which is a Women Flat , it has Buckle closure and Open Toe  style.', 'a Buckle Sandals that is a Flat for Women , it is in Open Toe style.', 'this is a Flat , a Women Sandals that has Buckle closure and Open Toe style.', 'this is a Women Flat , a Buckle Sandals that is in Open Toe style.', '']\n"
     ]
    },
    {
     "name": "stderr",
     "output_type": "stream",
     "text": [
      "20005it [12:42, 24.25it/s]"
     ]
    },
    {
     "name": "stdout",
     "output_type": "stream",
     "text": [
      "./zap50k128/7906940.14.txt ['a Women Sandals which is a Flat with Slip-On closure, Open Toe  style.', 'a Sandals which is a Women Flat , it has Slip-On closure and Open Toe  style.', 'a Slip-On Sandals that is a Flat for Women , it is in Open Toe style.', 'this is a Flat , a Women Sandals that has Slip-On closure and Open Toe style.', 'this is a Women Flat , a Slip-On Sandals that is in Open Toe style.', '']\n"
     ]
    },
    {
     "name": "stderr",
     "output_type": "stream",
     "text": [
      "21006it [13:20, 28.24it/s]"
     ]
    },
    {
     "name": "stdout",
     "output_type": "stream",
     "text": [
      "./zap50k128/7922162.183092.txt ['a Men Shoes which is a Loafers with Slip-On closure, Round Toe  style.', 'a Shoes which is a Men Loafers , it has Slip-On closure and Round Toe  style.', 'a Slip-On Shoes that is a Loafers for Men , it is in Round Toe style.', 'this is a Loafers , a Men Shoes that has Slip-On closure and Round Toe style.', 'this is a Men Loafers , a Slip-On Shoes that is in Round Toe style.', '']\n"
     ]
    },
    {
     "name": "stderr",
     "output_type": "stream",
     "text": [
      "22004it [13:59, 25.06it/s]"
     ]
    },
    {
     "name": "stdout",
     "output_type": "stream",
     "text": [
      "./zap50k128/7932727.34904.txt ['a Men Shoes which is a Oxfords with Lace up closure, Round Toe  style.', 'a Shoes which is a Men Oxfords , it has Lace up closure and Round Toe  style.', 'a Lace up Shoes that is a Oxfords for Men , it is in Round Toe style.', 'this is a Oxfords , a Men Shoes that has Lace up closure and Round Toe style.', 'this is a Men Oxfords , a Lace up Shoes that is in Round Toe style.', '']\n"
     ]
    },
    {
     "name": "stderr",
     "output_type": "stream",
     "text": [
      "23006it [14:38, 25.91it/s]"
     ]
    },
    {
     "name": "stdout",
     "output_type": "stream",
     "text": [
      "./zap50k128/7952004.274007.txt ['a Girls Shoes which is a Sneakers and Athletic Shoes with Hook and Loop closure, Bump Toe, Round Toe  style.', 'a Shoes which is a Girls Sneakers and Athletic Shoes , it has Hook and Loop closure and Bump Toe, Round Toe  style.', 'a Hook and Loop Shoes that is a Sneakers and Athletic Shoes for Girls , it is in Bump Toe, Round Toe style.', 'this is a Sneakers and Athletic Shoes , a Girls Shoes that has Hook and Loop closure and Bump Toe, Round Toe style.', 'this is a Girls Sneakers and Athletic Shoes , a Hook and Loop Shoes that is in Bump Toe, Round Toe style.', '']\n"
     ]
    },
    {
     "name": "stderr",
     "output_type": "stream",
     "text": [
      "24004it [15:16, 26.41it/s]"
     ]
    },
    {
     "name": "stdout",
     "output_type": "stream",
     "text": [
      "./zap50k128/7968036.529.txt ['a Boys, Girls Boots which is a Ankle with Pull-on closure, Round Toe, Closed Toe  style.', 'a Boots which is a Boys, Girls Ankle , it has Pull-on closure and Round Toe, Closed Toe  style.', 'a Pull-on Boots that is a Ankle for Boys, Girls , it is in Round Toe, Closed Toe style.', 'this is a Ankle , a Boys, Girls Boots that has Pull-on closure and Round Toe, Closed Toe style.', 'this is a Boys, Girls Ankle , a Pull-on Boots that is in Round Toe, Closed Toe style.', '']\n"
     ]
    },
    {
     "name": "stderr",
     "output_type": "stream",
     "text": [
      "25005it [15:55, 26.59it/s]"
     ]
    },
    {
     "name": "stdout",
     "output_type": "stream",
     "text": [
      "./zap50k128/7972844.8313.txt ['a Boys Shoes which is a Sneakers and Athletic Shoes with Lace up closure,  style.', 'a Shoes which is a Boys Sneakers and Athletic Shoes , it has Lace up closure and  style.', 'a Lace up Shoes that is a Sneakers and Athletic Shoes for Boys , it is in style.', 'this is a Sneakers and Athletic Shoes , a Boys Shoes that has Lace up closure and style.', 'this is a Boys Sneakers and Athletic Shoes , a Lace up Shoes that is in style.', '']\n"
     ]
    },
    {
     "name": "stderr",
     "output_type": "stream",
     "text": [
      "26005it [16:33, 26.75it/s]"
     ]
    },
    {
     "name": "stdout",
     "output_type": "stream",
     "text": [
      "./zap50k128/7977229.144.txt ['a Boys Shoes which is a Sneakers and Athletic Shoes with Lace up closure,  style.', 'a Shoes which is a Boys Sneakers and Athletic Shoes , it has Lace up closure and  style.', 'a Lace up Shoes that is a Sneakers and Athletic Shoes for Boys , it is in style.', 'this is a Sneakers and Athletic Shoes , a Boys Shoes that has Lace up closure and style.', 'this is a Boys Sneakers and Athletic Shoes , a Lace up Shoes that is in style.', '']\n"
     ]
    },
    {
     "name": "stderr",
     "output_type": "stream",
     "text": [
      "27005it [17:11, 25.81it/s]"
     ]
    },
    {
     "name": "stdout",
     "output_type": "stream",
     "text": [
      "./zap50k128/7980635.559.txt ['a Girls Shoes which is a Sneakers and Athletic Shoes with Lace up closure,  style.', 'a Shoes which is a Girls Sneakers and Athletic Shoes , it has Lace up closure and  style.', 'a Lace up Shoes that is a Sneakers and Athletic Shoes for Girls , it is in style.', 'this is a Sneakers and Athletic Shoes , a Girls Shoes that has Lace up closure and style.', 'this is a Girls Sneakers and Athletic Shoes , a Lace up Shoes that is in style.', '']\n"
     ]
    },
    {
     "name": "stderr",
     "output_type": "stream",
     "text": [
      "28006it [17:50, 24.59it/s]"
     ]
    },
    {
     "name": "stdout",
     "output_type": "stream",
     "text": [
      "./zap50k128/7987318.3.txt ['a Women Boots which is a Ankle with Zipper closure, Round Toe, Closed Toe  style.', 'a Boots which is a Women Ankle , it has Zipper closure and Round Toe, Closed Toe  style.', 'a Zipper Boots that is a Ankle for Women , it is in Round Toe, Closed Toe style.', 'this is a Ankle , a Women Boots that has Zipper closure and Round Toe, Closed Toe style.', 'this is a Women Ankle , a Zipper Boots that is in Round Toe, Closed Toe style.', '']\n"
     ]
    },
    {
     "name": "stderr",
     "output_type": "stream",
     "text": [
      "29004it [18:28, 26.60it/s]"
     ]
    },
    {
     "name": "stdout",
     "output_type": "stream",
     "text": [
      "./zap50k128/7992490.137960.txt ['a Men Boots which is a Mid-Calf with Pull-on closure, Square Toe, Closed Toe  style.', 'a Boots which is a Men Mid-Calf , it has Pull-on closure and Square Toe, Closed Toe  style.', 'a Pull-on Boots that is a Mid-Calf for Men , it is in Square Toe, Closed Toe style.', 'this is a Mid-Calf , a Men Boots that has Pull-on closure and Square Toe, Closed Toe style.', 'this is a Men Mid-Calf , a Pull-on Boots that is in Square Toe, Closed Toe style.', '']\n"
     ]
    },
    {
     "name": "stderr",
     "output_type": "stream",
     "text": [
      "30004it [19:07, 25.46it/s]"
     ]
    },
    {
     "name": "stdout",
     "output_type": "stream",
     "text": [
      "./zap50k128/7996638.2529.txt ['a Men Boots which is a Ankle with Lace up closure, Moc Toe, Round Toe, Closed Toe  style.', 'a Boots which is a Men Ankle , it has Lace up closure and Moc Toe, Round Toe, Closed Toe  style.', 'a Lace up Boots that is a Ankle for Men , it is in Moc Toe, Round Toe, Closed Toe style.', 'this is a Ankle , a Men Boots that has Lace up closure and Moc Toe, Round Toe, Closed Toe style.', 'this is a Men Ankle , a Lace up Boots that is in Moc Toe, Round Toe, Closed Toe style.', '']\n"
     ]
    },
    {
     "name": "stderr",
     "output_type": "stream",
     "text": [
      "31004it [19:45, 26.25it/s]"
     ]
    },
    {
     "name": "stdout",
     "output_type": "stream",
     "text": [
      "./zap50k128/7999621.6.txt ['a Girls Shoes which is a Firstwalker with Hook and Loop closure, Round Toe, Closed Toe  style.', 'a Shoes which is a Girls Firstwalker , it has Hook and Loop closure and Round Toe, Closed Toe  style.', 'a Hook and Loop Shoes that is a Firstwalker for Girls , it is in Round Toe, Closed Toe style.', 'this is a Firstwalker , a Girls Shoes that has Hook and Loop closure and Round Toe, Closed Toe style.', 'this is a Girls Firstwalker , a Hook and Loop Shoes that is in Round Toe, Closed Toe style.', '']\n"
     ]
    },
    {
     "name": "stderr",
     "output_type": "stream",
     "text": [
      "32006it [20:24, 26.21it/s]"
     ]
    },
    {
     "name": "stdout",
     "output_type": "stream",
     "text": [
      "./zap50k128/8004236.3.txt ['a Men Boots which is a Ankle with Lace up closure, Round Toe, Closed Toe  style.', 'a Boots which is a Men Ankle , it has Lace up closure and Round Toe, Closed Toe  style.', 'a Lace up Boots that is a Ankle for Men , it is in Round Toe, Closed Toe style.', 'this is a Ankle , a Men Boots that has Lace up closure and Round Toe, Closed Toe style.', 'this is a Men Ankle , a Lace up Boots that is in Round Toe, Closed Toe style.', '']\n"
     ]
    },
    {
     "name": "stderr",
     "output_type": "stream",
     "text": [
      "33007it [21:02, 26.73it/s]"
     ]
    },
    {
     "name": "stdout",
     "output_type": "stream",
     "text": [
      "./zap50k128/8009354.72.txt ['a Women Boots which is a Mid-Calf with Lace up, Zipper closure, Round Toe, Closed Toe  style.', 'a Boots which is a Women Mid-Calf , it has Lace up, Zipper closure and Round Toe, Closed Toe  style.', 'a Lace up, Zipper Boots that is a Mid-Calf for Women , it is in Round Toe, Closed Toe style.', 'this is a Mid-Calf , a Women Boots that has Lace up, Zipper closure and Round Toe, Closed Toe style.', 'this is a Women Mid-Calf , a Lace up, Zipper Boots that is in Round Toe, Closed Toe style.', '']\n"
     ]
    },
    {
     "name": "stderr",
     "output_type": "stream",
     "text": [
      "34005it [21:40, 25.86it/s]"
     ]
    },
    {
     "name": "stdout",
     "output_type": "stream",
     "text": [
      "./zap50k128/8014288.325.txt ['a Women Shoes which is a Loafers with Slip-On closure, Moc Toe  style.', 'a Shoes which is a Women Loafers , it has Slip-On closure and Moc Toe  style.', 'a Slip-On Shoes that is a Loafers for Women , it is in Moc Toe style.', 'this is a Loafers , a Women Shoes that has Slip-On closure and Moc Toe style.', 'this is a Women Loafers , a Slip-On Shoes that is in Moc Toe style.', '']\n"
     ]
    },
    {
     "name": "stderr",
     "output_type": "stream",
     "text": [
      "35006it [22:19, 26.98it/s]"
     ]
    },
    {
     "name": "stdout",
     "output_type": "stream",
     "text": [
      "./zap50k128/8018145.19.txt ['a Women Boots which is a Knee High with Zipper closure, Round Toe, Closed Toe  style.', 'a Boots which is a Women Knee High , it has Zipper closure and Round Toe, Closed Toe  style.', 'a Zipper Boots that is a Knee High for Women , it is in Round Toe, Closed Toe style.', 'this is a Knee High , a Women Boots that has Zipper closure and Round Toe, Closed Toe style.', 'this is a Women Knee High , a Zipper Boots that is in Round Toe, Closed Toe style.', '']\n"
     ]
    },
    {
     "name": "stderr",
     "output_type": "stream",
     "text": [
      "36006it [22:57, 24.97it/s]"
     ]
    },
    {
     "name": "stdout",
     "output_type": "stream",
     "text": [
      "./zap50k128/8021880.370605.txt ['a Women Shoes which is a Heels with Slip-On closure, Round Toe, Closed Toe  style.', 'a Shoes which is a Women Heels , it has Slip-On closure and Round Toe, Closed Toe  style.', 'a Slip-On Shoes that is a Heels for Women , it is in Round Toe, Closed Toe style.', 'this is a Heels , a Women Shoes that has Slip-On closure and Round Toe, Closed Toe style.', 'this is a Women Heels , a Slip-On Shoes that is in Round Toe, Closed Toe style.', '']\n"
     ]
    },
    {
     "name": "stderr",
     "output_type": "stream",
     "text": [
      "37005it [23:36, 26.15it/s]"
     ]
    },
    {
     "name": "stdout",
     "output_type": "stream",
     "text": [
      "./zap50k128/8025283.289815.txt ['a Women Shoes which is a Heels with Buckle, Ankle Strap closure, Pointed Toe, Closed Toe  style.', 'a Shoes which is a Women Heels , it has Buckle, Ankle Strap closure and Pointed Toe, Closed Toe  style.', 'a Buckle, Ankle Strap Shoes that is a Heels for Women , it is in Pointed Toe, Closed Toe style.', 'this is a Heels , a Women Shoes that has Buckle, Ankle Strap closure and Pointed Toe, Closed Toe style.', 'this is a Women Heels , a Buckle, Ankle Strap Shoes that is in Pointed Toe, Closed Toe style.', '']\n"
     ]
    },
    {
     "name": "stderr",
     "output_type": "stream",
     "text": [
      "38004it [24:15, 25.49it/s]"
     ]
    },
    {
     "name": "stdout",
     "output_type": "stream",
     "text": [
      "./zap50k128/8029312.49766.txt ['a Women Slippers which is a Slipper Flats with Pull-on closure, Moc Toe, Round Toe, Closed Toe  style.', 'a Slippers which is a Women Slipper Flats , it has Pull-on closure and Moc Toe, Round Toe, Closed Toe  style.', 'a Pull-on Slippers that is a Slipper Flats for Women , it is in Moc Toe, Round Toe, Closed Toe style.', 'this is a Slipper Flats , a Women Slippers that has Pull-on closure and Moc Toe, Round Toe, Closed Toe style.', 'this is a Women Slipper Flats , a Pull-on Slippers that is in Moc Toe, Round Toe, Closed Toe style.', '']\n"
     ]
    },
    {
     "name": "stderr",
     "output_type": "stream",
     "text": [
      "39004it [24:54, 25.84it/s]"
     ]
    },
    {
     "name": "stdout",
     "output_type": "stream",
     "text": [
      "./zap50k128/8031900.6.txt ['a Boys Boots which is a Ankle with Hook and Loop closure, Bump Toe  style.', 'a Boots which is a Boys Ankle , it has Hook and Loop closure and Bump Toe  style.', 'a Hook and Loop Boots that is a Ankle for Boys , it is in Bump Toe style.', 'this is a Ankle , a Boys Boots that has Hook and Loop closure and Bump Toe style.', 'this is a Boys Ankle , a Hook and Loop Boots that is in Bump Toe style.', '']\n"
     ]
    },
    {
     "name": "stderr",
     "output_type": "stream",
     "text": [
      "40005it [25:33, 24.36it/s]"
     ]
    },
    {
     "name": "stdout",
     "output_type": "stream",
     "text": [
      "./zap50k128/8037356.10859.txt ['a Women Boots which is a Ankle with Lace up closure, Round Toe, Closed Toe  style.', 'a Boots which is a Women Ankle , it has Lace up closure and Round Toe, Closed Toe  style.', 'a Lace up Boots that is a Ankle for Women , it is in Round Toe, Closed Toe style.', 'this is a Ankle , a Women Boots that has Lace up closure and Round Toe, Closed Toe style.', 'this is a Women Ankle , a Lace up Boots that is in Round Toe, Closed Toe style.', '']\n"
     ]
    },
    {
     "name": "stderr",
     "output_type": "stream",
     "text": [
      "41004it [26:14, 25.13it/s]"
     ]
    },
    {
     "name": "stdout",
     "output_type": "stream",
     "text": [
      "./zap50k128/8043360.2329.txt ['a Women Shoes which is a Flats with Slip-On closure, Capped Toe, Round Toe, Closed Toe  style.', 'a Shoes which is a Women Flats , it has Slip-On closure and Capped Toe, Round Toe, Closed Toe  style.', 'a Slip-On Shoes that is a Flats for Women , it is in Capped Toe, Round Toe, Closed Toe style.', 'this is a Flats , a Women Shoes that has Slip-On closure and Capped Toe, Round Toe, Closed Toe style.', 'this is a Women Flats , a Slip-On Shoes that is in Capped Toe, Round Toe, Closed Toe style.', '']\n"
     ]
    },
    {
     "name": "stderr",
     "output_type": "stream",
     "text": [
      "42007it [26:53, 25.82it/s]"
     ]
    },
    {
     "name": "stdout",
     "output_type": "stream",
     "text": [
      "./zap50k128/8049006.1430.txt ['a Women Boots which is a Mid-Calf with Pull-on closure, Round Toe, Closed Toe  style.', 'a Boots which is a Women Mid-Calf , it has Pull-on closure and Round Toe, Closed Toe  style.', 'a Pull-on Boots that is a Mid-Calf for Women , it is in Round Toe, Closed Toe style.', 'this is a Mid-Calf , a Women Boots that has Pull-on closure and Round Toe, Closed Toe style.', 'this is a Women Mid-Calf , a Pull-on Boots that is in Round Toe, Closed Toe style.', '']\n"
     ]
    },
    {
     "name": "stderr",
     "output_type": "stream",
     "text": [
      "43007it [27:32, 25.70it/s]"
     ]
    },
    {
     "name": "stdout",
     "output_type": "stream",
     "text": [
      "./zap50k128/8055741.381523.txt ['a Women Sandals which is a Flat with Slip-On closure, Open Toe  style.', 'a Sandals which is a Women Flat , it has Slip-On closure and Open Toe  style.', 'a Slip-On Sandals that is a Flat for Women , it is in Open Toe style.', 'this is a Flat , a Women Sandals that has Slip-On closure and Open Toe style.', 'this is a Women Flat , a Slip-On Sandals that is in Open Toe style.', '']\n"
     ]
    },
    {
     "name": "stderr",
     "output_type": "stream",
     "text": [
      "44004it [28:11, 25.17it/s]"
     ]
    },
    {
     "name": "stdout",
     "output_type": "stream",
     "text": [
      "./zap50k128/8064024.82.txt ['a Women Shoes which is a Heels with Sling Back closure, Open Toe  style.', 'a Shoes which is a Women Heels , it has Sling Back closure and Open Toe  style.', 'a Sling Back Shoes that is a Heels for Women , it is in Open Toe style.', 'this is a Heels , a Women Shoes that has Sling Back closure and Open Toe style.', 'this is a Women Heels , a Sling Back Shoes that is in Open Toe style.', '']\n"
     ]
    },
    {
     "name": "stderr",
     "output_type": "stream",
     "text": [
      "45006it [28:50, 25.16it/s]"
     ]
    },
    {
     "name": "stdout",
     "output_type": "stream",
     "text": [
      "./zap50k128/8071998.389426.txt ['a Women Shoes which is a Sneakers and Athletic Shoes with Lace up closure,  style.', 'a Shoes which is a Women Sneakers and Athletic Shoes , it has Lace up closure and  style.', 'a Lace up Shoes that is a Sneakers and Athletic Shoes for Women , it is in style.', 'this is a Sneakers and Athletic Shoes , a Women Shoes that has Lace up closure and style.', 'this is a Women Sneakers and Athletic Shoes , a Lace up Shoes that is in style.', '']\n"
     ]
    },
    {
     "name": "stderr",
     "output_type": "stream",
     "text": [
      "46006it [29:30, 25.38it/s]"
     ]
    },
    {
     "name": "stdout",
     "output_type": "stream",
     "text": [
      "./zap50k128/8078795.343.txt ['a Women Sandals which is a Flat with Hook and Loop closure, Open Toe  style.', 'a Sandals which is a Women Flat , it has Hook and Loop closure and Open Toe  style.', 'a Hook and Loop Sandals that is a Flat for Women , it is in Open Toe style.', 'this is a Flat , a Women Sandals that has Hook and Loop closure and Open Toe style.', 'this is a Women Flat , a Hook and Loop Sandals that is in Open Toe style.', '']\n"
     ]
    },
    {
     "name": "stderr",
     "output_type": "stream",
     "text": [
      "47007it [30:09, 26.86it/s]"
     ]
    },
    {
     "name": "stdout",
     "output_type": "stream",
     "text": [
      "./zap50k128/8087698.48369.txt ['a Women Shoes which is a Heels with Slip-On closure, Peep Toe  style.', 'a Shoes which is a Women Heels , it has Slip-On closure and Peep Toe  style.', 'a Slip-On Shoes that is a Heels for Women , it is in Peep Toe style.', 'this is a Heels , a Women Shoes that has Slip-On closure and Peep Toe style.', 'this is a Women Heels , a Slip-On Shoes that is in Peep Toe style.', '']\n"
     ]
    },
    {
     "name": "stderr",
     "output_type": "stream",
     "text": [
      "48006it [30:48, 24.82it/s]"
     ]
    },
    {
     "name": "stdout",
     "output_type": "stream",
     "text": [
      "./zap50k128/8102384.147.txt ['a Women Sandals which is a Flat with Slip-On closure, Open Toe  style.', 'a Sandals which is a Women Flat , it has Slip-On closure and Open Toe  style.', 'a Slip-On Sandals that is a Flat for Women , it is in Open Toe style.', 'this is a Flat , a Women Sandals that has Slip-On closure and Open Toe style.', 'this is a Women Flat , a Slip-On Sandals that is in Open Toe style.', '']\n"
     ]
    },
    {
     "name": "stderr",
     "output_type": "stream",
     "text": [
      "49006it [31:26, 26.64it/s]"
     ]
    },
    {
     "name": "stdout",
     "output_type": "stream",
     "text": [
      "./zap50k128/8115506.3.txt ['a Women Sandals which is a Flat with closure,  style.', 'a Sandals which is a Women Flat , it has closure and  style.', 'a Sandals that is a Flat for Women , it is in style.', 'this is a Flat , a Women Sandals that has closure and style.', 'this is a Women Flat , a Sandals that is in style.', '']\n"
     ]
    },
    {
     "name": "stderr",
     "output_type": "stream",
     "text": [
      "50006it [32:05, 25.77it/s]"
     ]
    },
    {
     "name": "stdout",
     "output_type": "stream",
     "text": [
      "./zap50k128/8164779.65259.txt ['a Women Shoes which is a Sneakers and Athletic Shoes with Lace up closure, Capped Toe  style.', 'a Shoes which is a Women Sneakers and Athletic Shoes , it has Lace up closure and Capped Toe  style.', 'a Lace up Shoes that is a Sneakers and Athletic Shoes for Women , it is in Capped Toe style.', 'this is a Sneakers and Athletic Shoes , a Women Shoes that has Lace up closure and Capped Toe style.', 'this is a Women Sneakers and Athletic Shoes , a Lace up Shoes that is in Capped Toe style.', '']\n"
     ]
    },
    {
     "name": "stderr",
     "output_type": "stream",
     "text": [
      "50025it [32:05, 25.97it/s]\n"
     ]
    }
   ],
   "source": [
    "# generate text files for shoes dataset\n",
    "import csv\n",
    "from  tqdm import tqdm\n",
    "\n",
    "class Row:\n",
    "    def __init__(self):\n",
    "        self.name = 'row'\n",
    "    def r(self, ind):\n",
    "        string = self.row[ind]\n",
    "        if string != '' and not string.isspace():\n",
    "            return string.replace(';', ', ') + ' '\n",
    "        else:\n",
    "            return ''\n",
    "    def reset(self, row):\n",
    "        self.row = row\n",
    "\n",
    "with open('meta-data.csv') as f:\n",
    "    f_csv = csv.reader(f)\n",
    "    header = next(f_csv)\n",
    "    print(header)\n",
    "    count = -1\n",
    "    c = Row()\n",
    "    for row in tqdm(f_csv):\n",
    "        c.reset(row)\n",
    "        count += 1\n",
    "#         print(row)\n",
    "        file_name =  './zap50k128/'  + row[0].replace('-', '.')+ '.txt'\n",
    "        \n",
    "#         txt = c.r(1) + c.r(7) + c.r(5) + '.\\n'\n",
    "#         txt += c.r(1) + c.r(5) + c.r(7) + '.\\n'\n",
    "#         txt += c.r(7) + c.r(1) + c.r(5) + '.\\n'\n",
    "#         txt += c.r(7) + c.r(5) + c.r(1) + '.\\n'\n",
    "#         txt += c.r(5) + c.r(1) + c.r(7) + '.\\n'\n",
    "#         txt += c.r(5) + c.r(7) + c.r(1) + '.\\n'\n",
    "#         txt += c.r(1) + c.r(7) + '.\\n'\n",
    "#         txt += c.r(1) + c.r(5) + '.\\n'\n",
    "#         txt += c.r(7) + c.r(1) + '.\\n'\n",
    "#         txt += c.r(7) + c.r(5) + '.\\n'\n",
    "#         txt += c.r(5) + c.r(1) + '.\\n'\n",
    "#         txt += c.r(5) + c.r(7) + '.\\n'\n",
    "#         txt = c.r(1) + ', ' + c.r(2) + ', ' + c.r(5) + ', ' + c.r(6) + ', ' + c.r(8)+'.\\n'\n",
    "#         txt += c.r(1) + ', ' + c.r(2) + ', ' + c.r(5) + ', ' + c.r(6) + '.\\n'\n",
    "#         txt += c.r(1) + ', ' + c.r(2) + ', ' + c.r(5) + ', ' + c.r(8) + '.\\n'\n",
    "#         txt += c.r(1) + ', ' + c.r(2) + ', ' + c.r(6) + ', ' + c.r(8) + '.\\n'\n",
    "#         txt += c.r(1) + ', ' + c.r(5) + ', ' + c.r(6) + ', ' + c.r(8) + '.\\n'\n",
    "#         txt += c.r(2) + ', ' + c.r(5) + ', ' + c.r(6) + ', ' + c.r(8)\n",
    "        \n",
    "        \n",
    "        txt = 'a ' + c.r(6) + c.r(1)+'which is a ' + c.r(2) + 'with '+c.r(5)+'closure, '+c.r(8)+' style.\\n'\n",
    "        txt += 'a ' + c.r(1) + 'which is a ' + c.r(6) + c.r(2) + ', it has ' + c.r(5) + 'closure and '+c.r(8)+' style.\\n'\n",
    "        txt += 'a ' + c.r(5) + c.r(1) + 'that is a ' + c.r(2) + 'for ' + c.r(6) +', it is in ' + c.r(8) + 'style.\\n'\n",
    "        txt += 'this is a ' + c.r(2) +', a ' + c.r(6) + c.r(1) + 'that has ' + c.r(5) + 'closure and ' + c.r(8) +'style.\\n'\n",
    "        txt += 'this is a ' + c.r(6) +c.r(2) +', a ' +c.r(5)+ c.r(1) + 'that is in ' + c.r(8) +'style.\\n'\n",
    "\n",
    "\n",
    "#         for j in range(1, len(header)):\n",
    "#             if  j != 3:\n",
    "#                 txt += row[j].replace(';', ' ') + ' '           \n",
    "#         print(txt.split('\\n'))\n",
    "    \n",
    "        text_file = open(file_name, \"w\")\n",
    "        if count%1000 == 1:\n",
    "            print(file_name, txt.split('\\n'))\n",
    "        text_file.write(txt)\n",
    "        text_file.close()\n",
    "#         print(file_name)"
   ]
  },
  {
   "cell_type": "code",
   "execution_count": null,
   "id": "0c24b4d4-6443-4505-b68e-be8177520940",
   "metadata": {},
   "outputs": [],
   "source": []
  }
 ],
 "metadata": {
  "kernelspec": {
   "display_name": "Python 3",
   "language": "python",
   "name": "python3"
  },
  "language_info": {
   "codemirror_mode": {
    "name": "ipython",
    "version": 3
   },
   "file_extension": ".py",
   "mimetype": "text/x-python",
   "name": "python",
   "nbconvert_exporter": "python",
   "pygments_lexer": "ipython3",
   "version": "3.8.5"
  }
 },
 "nbformat": 4,
 "nbformat_minor": 5
}
